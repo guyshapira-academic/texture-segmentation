{
 "cells": [
  {
   "cell_type": "code",
   "execution_count": null,
   "metadata": {
    "jupyter": {
     "is_executing": true
    }
   },
   "outputs": [],
   "source": [
    "import matplotlib.pyplot as plt\n",
    "import numpy as np\n",
    "import scipy as sp\n",
    "import imageio.v3 as imageio\n",
    "from tqdm.auto import trange\n",
    "import texture_segmentation.gabor as gabor\n",
    "import texture_segmentation.diffusion as diffusion\n",
    "\n",
    "plt.rcParams['image.cmap'] = 'gray'"
   ]
  },
  {
   "cell_type": "code",
   "execution_count": null,
   "metadata": {},
   "outputs": [],
   "source": [
    "imsize = 300\n",
    "backgroud_texture_id = 5\n",
    "inner_texture_id = 80\n",
    "# backgroud_texture_id = 16\n",
    "# inner_texture_id = 77\n",
    "\n",
    "bg_image_url = f\"https://www.ux.uis.no/~tranden/brodatz/D{backgroud_texture_id}.gif\"\n",
    "texture_image_url = f\"https://www.ux.uis.no/~tranden/brodatz/D{inner_texture_id}.gif\"\n",
    "\n",
    "\n",
    "bg_image = imageio.imread(bg_image_url)\n",
    "bg_image = bg_image[:, 0:imsize, 0:imsize].astype(float) / 255\n",
    "\n",
    "texture_image = imageio.imread(texture_image_url)\n",
    "texture_image = texture_image[:, 0:imsize, 0:imsize].astype(float) / 255\n",
    "mask = np.zeros_like(bg_image)\n",
    "# mask[:, imsize//3:-imsize//3, imsize//3:-imsize//3] = 1\n",
    "mask[:, imsize//3:-imsize//3, imsize//3:-imsize//3] = 1\n",
    "mask = sp.ndimage.gaussian_filter(mask, sigma=(0, 5, 5))\n",
    "\n",
    "texture_image = texture_image - texture_image.mean() + bg_image.mean()\n",
    "texture_image = texture_image * bg_image.std() / texture_image.std()\n",
    "texture_image = np.clip(texture_image, 0, 1)\n",
    "\n",
    "image = (1 - mask) * bg_image + mask * texture_image\n",
    "image -= image.min()\n",
    "image /= image.max()\n",
    "# image = np.random.normal(image, 0.1)\n",
    "image = np.clip(image, 0, 1)\n",
    "image = image[0]\n",
    "plt.imshow(image)\n",
    "plt.show()"
   ]
  },
  {
   "cell_type": "code",
   "execution_count": null,
   "metadata": {},
   "outputs": [],
   "source": []
  },
  {
   "cell_type": "code",
   "execution_count": null,
   "metadata": {},
   "outputs": [],
   "source": [
    "filter_bank_params = {\n",
    "    'num_angles': 20,\n",
    "    'full_circle': False,\n",
    "    'scaling_factor': 0.4,\n",
    "    'num_scales': 4,\n",
    "    'sigma_x0': 0.17,\n",
    "    \"sigma_y0\": 0.07\n",
    "}\n",
    "\n",
    "arr = gabor.plot_gabor_filter_bank_fft_fwhm(300, **filter_bank_params)\n",
    "\n",
    "fig = plt.figure()\n",
    "ax = fig.add_subplot(111)\n",
    "ax.set_aspect('equal')\n",
    "ax.imshow(arr, cmap=\"binary\")\n",
    "ax.set_axis_off()\n",
    "plt.tight_layout()\n",
    "plt.show()"
   ]
  },
  {
   "cell_type": "code",
   "execution_count": null,
   "metadata": {},
   "outputs": [],
   "source": [
    "gabor_features_complex = gabor.gabor_features_raw(image, filter_bank_params)\n",
    "\n",
    "# im = np.zeros((*gabor_features_complex.shape, 3), dtype=float)\n",
    "# im[..., 0] = gabor_features_complex.real\n",
    "# im[..., 2] = gabor_features_complex.imag\n",
    "\n",
    "im = np.abs(gabor_features_complex)\n",
    "vmin = np.quantile(im, 0.01)\n",
    "vmax = np.quantile(im, 0.99)\n",
    "# vmin = im.min()\n",
    "# vmax = im.max()\n",
    "im = im - vmin\n",
    "im = im / vmax\n",
    "\n",
    "\n",
    "# Plot the complex gabor features\n",
    "s = 5\n",
    "fig, axs = plt.subplots(nrows=im.shape[0], ncols=im.shape[1], figsize=(int(s * im.shape[1] / im.shape[0]), s))\n",
    "for i in range(im.shape[0]):\n",
    "    for j in range(im.shape[1]):\n",
    "        axs[i, j].imshow(im[i, j], vmin=0, vmax=1)\n",
    "        axs[i, j].axis(\"off\")\n",
    "plt.tight_layout()\n",
    "plt.show()"
   ]
  },
  {
   "cell_type": "code",
   "execution_count": null,
   "metadata": {},
   "outputs": [],
   "source": [
    "features, hl_features, names = gabor.gabor_features(image, filter_bank_params)\n",
    "hl_features -= hl_features.mean(axis=(-2, -1), keepdims=True)\n",
    "hl_features /= hl_features.std(axis=(-2, -1), keepdims=True)\n",
    "hl_features_post = gabor.features_post_process(hl_features, sigma=3, diffusion_eta=0.05, diffusion_steps=100)\n",
    "\n",
    "fig, axs = plt.subplots(nrows=1, ncols=5, figsize=(20, 4))\n",
    "for i in range(5):\n",
    "    axs[i].imshow(hl_features_post[i])\n",
    "    axs[i].axis(\"off\")\n",
    "plt.tight_layout()\n",
    "\n",
    "plt.show()"
   ]
  },
  {
   "cell_type": "code",
   "execution_count": null,
   "metadata": {},
   "outputs": [],
   "source": [
    "m, k, h, w = gabor_features_complex.shape\n",
    "X = np.abs(gabor_features_complex).reshape(-1, *gabor_features_complex.shape[-2:])\n",
    "means = X.mean(axis=0, keepdims=True)\n",
    "stds = X.std(axis=0, keepdims=True)\n",
    "# X = (X - means) / stds\n",
    "X = sp.ndimage.gaussian_filter(X, sigma=(0, 5, 5))\n",
    "X = diffusion.diffuse_features(X, it=100, eta=0.1)\n",
    "# X = X * stds + means\n",
    "\n",
    "im_d = np.abs(X).reshape(m, k, h, w)\n",
    "\n",
    "# im_d = im_d\n",
    "# vmin = im_d.min()\n",
    "# vmax = im_d.max()\n",
    "\n",
    "im_d = im_d - vmin\n",
    "im_d = im_d / vmax\n",
    "im_d = np.clip(im_d, 0, 1)\n",
    "\n",
    "\n",
    "# Plot the complex gabor features\n",
    "s = 5\n",
    "fig, axs = plt.subplots(nrows=im_d.shape[0], ncols=im_d.shape[1], figsize=(int(s * im_d.shape[1] / im_d.shape[0]), s))\n",
    "for i in range(im_d.shape[0]):\n",
    "    for j in range(im_d.shape[1]):\n",
    "        axs[i, j].imshow(im_d[i, j], vmin=0, vmax=1)\n",
    "        axs[i, j].axis(\"off\")\n",
    "plt.tight_layout()\n",
    "plt.show()"
   ]
  },
  {
   "cell_type": "code",
   "execution_count": null,
   "metadata": {},
   "outputs": [],
   "source": [
    "from sklearn.decomposition import PCA\n",
    "import math\n",
    "\n",
    "pixels = X.reshape(X.shape[0], -1).T\n",
    "pca = PCA(n_components=10)\n",
    "pca.fit(pixels)\n",
    "\n",
    "pixels_pca = pca.transform(pixels).T\n",
    "pixels_pca = pixels_pca.reshape(10, h, w)\n",
    "plt.imshow(pixels_pca[0])\n",
    "plt.show()\n"
   ]
  },
  {
   "cell_type": "code",
   "execution_count": null,
   "metadata": {},
   "outputs": [],
   "source": []
  },
  {
   "cell_type": "code",
   "execution_count": null,
   "metadata": {},
   "outputs": [],
   "source": [
    "\n",
    "\n",
    "grad = np.gradient(pixels_pca[0])\n",
    "grad = np.sqrt(grad[0]**2 + grad[1]**2)\n",
    "im = 1 / (1 + grad ** 2)\n",
    "\n",
    "vmin = np.quantile(im, 0.05)\n",
    "vmax = np.quantile(im, 0.95)\n",
    "plt.imshow(im , vmin=vmin, vmax=vmax)\n",
    "plt.show()"
   ]
  },
  {
   "cell_type": "code",
   "execution_count": null,
   "metadata": {},
   "outputs": [],
   "source": [
    "X = hl_features_post\n",
    "\n",
    "g = diffusion.metric(X)\n",
    "plt.imshow(1 / np.linalg.det(g))"
   ]
  },
  {
   "cell_type": "code",
   "execution_count": null,
   "metadata": {},
   "outputs": [],
   "source": []
  }
 ],
 "metadata": {
  "kernelspec": {
   "display_name": "txs",
   "language": "python",
   "name": "python3"
  },
  "language_info": {
   "codemirror_mode": {
    "name": "ipython",
    "version": 3
   },
   "file_extension": ".py",
   "mimetype": "text/x-python",
   "name": "python",
   "nbconvert_exporter": "python",
   "pygments_lexer": "ipython3",
   "version": "3.11.9"
  }
 },
 "nbformat": 4,
 "nbformat_minor": 2
}
