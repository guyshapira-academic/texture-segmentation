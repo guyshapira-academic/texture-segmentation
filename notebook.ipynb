{
 "cells": [
  {
   "cell_type": "code",
   "execution_count": null,
   "metadata": {
    "jupyter": {
     "is_executing": true
    }
   },
   "outputs": [],
   "source": [
    "import matplotlib.pyplot as plt\n",
    "import numpy as np\n",
    "from numpy.typing import NDArray\n",
    "import scipy as sp\n",
    "import imageio.v3 as imageio\n",
    "import skimage as ski\n",
    "from tqdm.auto import trange\n",
    "import texture_segmentation.gabor as gabor\n",
    "import texture_segmentation.diffusion as diffusion\n",
    "import texture_segmentation.segment as segment\n",
    "import texture_segmentation.data as data\n",
    "\n",
    "\n",
    "plt.rcParams['image.cmap'] = 'gray'"
   ]
  },
  {
   "cell_type": "code",
   "execution_count": null,
   "metadata": {},
   "outputs": [],
   "source": [
    "def approximate_delta(x: NDArray, epsilon: float = 1e-6):\n",
    "    divisor = np.abs(epsilon) * np.sqrt(np.pi)\n",
    "    return np.exp(-x**2 / epsilon**2) / divisor"
   ]
  },
  {
   "cell_type": "code",
   "execution_count": null,
   "metadata": {},
   "outputs": [],
   "source": [
    "use_image = \"zebra\"\n",
    "imsize = 300\n",
    "backgroud_id = 6\n",
    "texture_id = 77\n",
    "\n",
    "if use_image == \"brodatz\":\n",
    "    image = data.brodatz_test_image(backgroud_id, texture_id, imsize)\n",
    "elif use_image == \"sine\":\n",
    "    image = data.sine_wave_test_image(imsize)\n",
    "elif use_image == \"disk\":\n",
    "    image = data.disk_on_gradient_test_image(imsize)\n",
    "elif use_image == \"zebra\":\n",
    "    image = imageio.imread(\"zebra_1.png\")\n",
    "    image = image[:, 50:-50, :3]\n",
    "    image = ski.color.rgb2gray(image)\n",
    "    image = ski.transform.resize(image, (imsize, imsize))\n",
    "else:\n",
    "    raise ValueError(\"Invalid image\")\n",
    "\n",
    "image_o = image.copy()\n",
    "image = ski.filters.laplace(image)\n",
    "image -= image.mean()\n",
    "image /= image.std()\n",
    "\n",
    "plt.imshow(image)\n",
    "plt.show()"
   ]
  },
  {
   "cell_type": "code",
   "execution_count": null,
   "metadata": {},
   "outputs": [],
   "source": [
    "filter_bank_params = {\n",
    "    'num_angles': 12,\n",
    "    'full_circle': False,\n",
    "    'scaling_factor': 0.4,\n",
    "    'num_scales': 4,\n",
    "    'sigma_x0': 0.15,\n",
    "    \"sigma_y0\": 0.07\n",
    "}\n",
    "\n",
    "arr = gabor.plot_gabor_filter_bank_fft_fwhm(300, **filter_bank_params)\n",
    "\n",
    "fig = plt.figure()\n",
    "ax = fig.add_subplot(111)\n",
    "ax.set_aspect('equal')\n",
    "ax.imshow(arr, cmap=\"binary\")\n",
    "ax.set_axis_off()\n",
    "plt.tight_layout()\n",
    "plt.show()"
   ]
  },
  {
   "cell_type": "code",
   "execution_count": null,
   "metadata": {},
   "outputs": [],
   "source": [
    "gabor_features_complex = gabor.gabor_features_raw(image, filter_bank_params)\n",
    "\n",
    "# im = np.zeros((*gabor_features_complex.shape, 3), dtype=float)\n",
    "# im[..., 0] = gabor_features_complex.real\n",
    "# im[..., 2] = gabor_features_complex.imag\n",
    "\n",
    "im = np.abs(gabor_features_complex)\n",
    "vmin = np.quantile(im, 0.01)\n",
    "vmax = np.quantile(im, 0.99)\n",
    "# vmin = im.min()\n",
    "# vmax = im.max()\n",
    "im = im - vmin\n",
    "im = im / vmax\n",
    "\n",
    "\n",
    "# Plot the complex gabor features\n",
    "s = 5\n",
    "fig, axs = plt.subplots(nrows=im.shape[0], ncols=im.shape[1], figsize=(int(s * im.shape[1] / im.shape[0]), s))\n",
    "for i in range(im.shape[0]):\n",
    "    for j in range(im.shape[1]):\n",
    "        axs[i, j].imshow(im[i, j], vmin=0, vmax=1)\n",
    "        axs[i, j].axis(\"off\")\n",
    "plt.tight_layout()\n",
    "plt.show()"
   ]
  },
  {
   "cell_type": "code",
   "execution_count": null,
   "metadata": {},
   "outputs": [],
   "source": [
    "features, hl_features, names = gabor.gabor_features(image, filter_bank_params)\n",
    "hl_features -= hl_features.mean(axis=(-2, -1), keepdims=True)\n",
    "hl_features /= (hl_features.std(axis=(-2, -1), keepdims=True) + 1e-6)\n",
    "hl_features_post = gabor.features_post_process(hl_features, sigma=3, diffusion_eta=0.1, diffusion_steps=20)\n",
    "# hl_features_post = sp.ndimage.gaussian_filter(hl_features_post, sigma=(0, 5, 5))\n",
    "fig, axs = plt.subplots(nrows=1, ncols=5, figsize=(20, 4))\n",
    "for i in range(5):\n",
    "    axs[i].imshow(hl_features_post[i])\n",
    "    axs[i].axis(\"off\")\n",
    "plt.tight_layout()\n",
    "plt.show()\n",
    "\n",
    "g = segment.isotropic_metric(hl_features_post)\n",
    "E = np.sqrt(g)\n",
    "plt.imshow(E, cmap=\"bwr\")\n",
    "plt.tight_layout()\n",
    "plt.show()"
   ]
  },
  {
   "cell_type": "code",
   "execution_count": null,
   "metadata": {},
   "outputs": [],
   "source": [
    "# phi0 = 2 * ski.segmentation.checkerboard_level_set((300, 300), 10).astype(float) - 1\n",
    "# phi0 = 2 * ski.segmentation.disk_level_set(image_shape=(300, 300)).astype(float) - 1\n",
    "# phi0 = sp.ndimage.gaussian_filter(phi0, sigma=5)\n",
    "phi0 = np.random.randn(*hl_features_post.shape[-2:]) * 0.1\n",
    "phi0 = sp.ndimage.gaussian_filter(phi0, sigma=5)\n",
    "feats = np.abs(gabor_features_complex).reshape(-1, imsize, imsize)\n",
    "feats_post = gabor.features_post_process(feats, sigma=1, diffusion_eta=0.1, diffusion_steps=10)\n",
    "res = segment.vector_chan_vase(feats_post, phi0, eta=1, it=100, lambda_c=0.55, mu=0.8, combined_mathod=True)\n",
    "# res = segment.vector_chan_vase(hl_features_post, phi0, eta=1, it=100, lambda_c=0.5, mu=0.5, combined_mathod=True)\n",
    "\n",
    "segmented_region = 2 * (res[\"phi\"] <= 0).astype(float) - 1\n",
    "segmented_region = sp.ndimage.gaussian_filter(segmented_region, sigma=2) <=0\n",
    "\n",
    "fig, axs = plt.subplots(nrows=1, ncols=2, figsize=(8, 4))\n",
    "axs[0].imshow(phi0 <= 0)\n",
    "axs[1].imshow(segmented_region)\n",
    "axs[0].axis(\"off\")\n",
    "axs[1].axis(\"off\")\n",
    "plt.show()\n",
    "\n",
    "# phi_f = ski.segmentation.clear_border(phi_f, buffer_size=2)\n",
    "bound = ski.segmentation.mark_boundaries(image_o, segmented_region, color=(1, 0, 0)).astype(float)\n",
    "plt.imshow(bound)\n",
    "plt.show()\n",
    "\n",
    "plt.imshow(res[\"h\"])\n",
    "plt.show()"
   ]
  },
  {
   "cell_type": "code",
   "execution_count": null,
   "metadata": {},
   "outputs": [],
   "source": []
  },
  {
   "cell_type": "code",
   "execution_count": null,
   "metadata": {},
   "outputs": [],
   "source": [
    "m, k, h, w = gabor_features_complex.shape\n",
    "X = np.abs(gabor_features_complex).reshape(-1, *gabor_features_complex.shape[-2:])\n",
    "means = X.mean(axis=0, keepdims=True)\n",
    "stds = X.std(axis=0, keepdims=True)\n",
    "# X = (X - means) / stds\n",
    "X = sp.ndimage.gaussian_filter(X, sigma=(0, 5, 5))\n",
    "X = diffusion.diffuse_features(X, it=10, eta=0.1)\n",
    "# X = X * stds + means\n",
    "\n",
    "im_d = np.abs(X).reshape(m, k, h, w)\n",
    "\n",
    "# im_d = im_d\n",
    "# vmin = im_d.min()\n",
    "# vmax = im_d.max()\n",
    "\n",
    "im_d = im_d - vmin\n",
    "im_d = im_d / vmax\n",
    "im_d = np.clip(im_d, 0, 1)\n",
    "\n",
    "\n",
    "# Plot the complex gabor features\n",
    "s = 5\n",
    "fig, axs = plt.subplots(nrows=im_d.shape[0], ncols=im_d.shape[1], figsize=(int(s * im_d.shape[1] / im_d.shape[0]), s))\n",
    "for i in range(im_d.shape[0]):\n",
    "    for j in range(im_d.shape[1]):\n",
    "        axs[i, j].imshow(im_d[i, j], vmin=0, vmax=1)\n",
    "        axs[i, j].axis(\"off\")\n",
    "plt.tight_layout()\n",
    "plt.show()"
   ]
  },
  {
   "cell_type": "code",
   "execution_count": null,
   "metadata": {},
   "outputs": [],
   "source": [
    "from sklearn.decomposition import PCA\n",
    "import math\n",
    "\n",
    "pixels = X.reshape(X.shape[0], -1).T\n",
    "pca = PCA(n_components=10)\n",
    "pca.fit(pixels)\n",
    "\n",
    "pixels_pca = pca.transform(pixels).T\n",
    "pixels_pca = pixels_pca.reshape(10, h, w)\n",
    "plt.imshow(pixels_pca[0])\n",
    "plt.show()\n"
   ]
  },
  {
   "cell_type": "code",
   "execution_count": null,
   "metadata": {},
   "outputs": [],
   "source": []
  },
  {
   "cell_type": "code",
   "execution_count": null,
   "metadata": {},
   "outputs": [],
   "source": [
    "\n",
    "\n",
    "grad = np.gradient(pixels_pca[0])\n",
    "grad = np.sqrt(grad[0]**2 + grad[1]**2)\n",
    "im = 1 / (1 + grad ** 2)\n",
    "\n",
    "vmin = np.quantile(im, 0.05)\n",
    "vmax = np.quantile(im, 0.95)\n",
    "plt.imshow(im , vmin=vmin, vmax=vmax)\n",
    "plt.show()"
   ]
  },
  {
   "cell_type": "code",
   "execution_count": null,
   "metadata": {},
   "outputs": [],
   "source": [
    "X = hl_features_post\n",
    "\n",
    "g = diffusion.metric(X)\n",
    "plt.imshow(1 / np.linalg.det(g))"
   ]
  },
  {
   "cell_type": "code",
   "execution_count": null,
   "metadata": {},
   "outputs": [],
   "source": []
  },
  {
   "cell_type": "code",
   "execution_count": null,
   "metadata": {},
   "outputs": [],
   "source": []
  }
 ],
 "metadata": {
  "kernelspec": {
   "display_name": "txs",
   "language": "python",
   "name": "python3"
  },
  "language_info": {
   "codemirror_mode": {
    "name": "ipython",
    "version": 3
   },
   "file_extension": ".py",
   "mimetype": "text/x-python",
   "name": "python",
   "nbconvert_exporter": "python",
   "pygments_lexer": "ipython3",
   "version": "3.11.9"
  }
 },
 "nbformat": 4,
 "nbformat_minor": 2
}
